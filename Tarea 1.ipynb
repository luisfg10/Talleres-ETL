{
 "cells": [
  {
   "cell_type": "markdown",
   "metadata": {},
   "source": [
    "# Tarea: Entendimiento de los datos\n",
    "\n",
    "Autor: Luis Felipe González\n",
    "\n",
    "Correo: lf.gonzalezv@uniandes.edu.co\n",
    "\n",
    "## Introducción\n",
    "### Objetivo\n",
    "\n",
    "Realizar el proceso de entendimiento de datos de WWImporters a través de perfilamiento general, análisis de reglas de negocio, estadísticos y análisis de calidad de datos.\n",
    "\n",
    "### ¿Para qué?\n",
    "\n",
    "* Practicar lo aprendido en el tutorial de entendimiento de los datos.\n",
    "\n",
    "### ¿Qué necesita?\n",
    "\n",
    "* Notebook para trabajar: puede usar la seccion 5 “Tarea” al final del notebook del tutorial para realizar esta actividad\n",
    "* Acceso a la base de datos WWImportersTransactional\n",
    "\n",
    "## Caso WWImporters\n",
    "Wide World Importers[^1] es un importador y distribuidor de productos de primera categoría, que funciona desde el área de la bahía de San Francisco. Como mayorista, los clientes de WWI son principalmente empresas que revenden a individuos. WWI vende a los clientes de venta al por menor en el Estados Unidos como tiendas especializadas, supermercados, almacenes informáticos, tiendas de atracción turística y otras personas. WWI también vende a otros mayoristas a través de una red de agentes que promocionan los productos en el nombre de WWI. A pesar de que todos los clientes de WWI se basan actualmente en el Estados Unidos, la empresa está intentando impulsar la expansión en otros países.\n",
    "\n",
    "WWI compra mercancías de proveedores, incluidos los fabricantes de la novedad y el juguete, y otros mayoristas. Almacenan las mercancías en el almacén de WWI y reordenan a los proveedores según sea necesario para satisfacer los pedidos de los clientes. También compran grandes volúmenes de materiales de embalaje y los venden en cantidades más pequeñas, por comodidad para los clientes.\n",
    "\n",
    "Los objetivos de Wide World Importers son:\n",
    "\n",
    "* Ofrecer a los clientes productos que deseen cuándo y dónde lo deseen\n",
    "* Dar un servicio de calidad que maximice las ganancias por ventas\n",
    "* Optimizar el manejo de inventario de los productos\n",
    "* Wide World Importers nos contrata como consultores para hacer un proyecto de analítica 1.0, en el cual quiere entender el comportamiento de los clientes o vendedores a partir de órdenes de venta con el fin de monitorear el logro de los objetivos estratégicos anteriores. Como resultados de la consultoría se tiene la documentación de los requerimientos analíticos en el siguiente formato:\n",
    "\n",
    "| Tema analítico | Análisis requeridos o inferidos | Categoría del análisis (*) | Procesos de negocio | Fuentes de datos |\n",
    "|---------|---------|---------|---------|---------|\n",
    "|   Comportamiento de clientes a partir de órdenes de compra |   Visualizar la cantidad de productos vendidos y el valor total recaudado en un rango de fechas por cliente, vendedor, ciudad, producto | Tablero de control |   Ventas | Ordenes, detalles de órdenes, clientes, productos, ciudades, vendedores |\n",
    "\n",
    "\t\t\t\t\t\t\t\n",
    "Adicionalmente, WWImporters desea realizar análisis sobre los datos de movimientos de inventarios y esa será la temática principal para el desarrollo de las tareas del curso.\n",
    "\n"
   ]
  },
  {
   "cell_type": "markdown",
   "metadata": {},
   "source": [
    "## Enunciado\n",
    "Ahora que ya aprendió a usar PySpark para exploración y calidad de datos, lo invitamos a que realice el proceso de entendimiento de datos de la tabla movimientosCopia que se encuentra en la base de datos WWImportersTransactional, que registra el movimiento en inventario de un producto. La empresa no compartió información de las tablas de clientes ni de proveedores para esta actividad.\n",
    "\n",
    "En esta actividad le recomendamos revisar el diccionario de datos suministrado y en particular la información relacionada con la tabla movimientosCopia. Si tienen alguna duda relacionada con esta tabla deben incluirla en las preguntas o aclaraciones que le entreguen al negocio. En relación a los datos Wide World Importers menciona:\n",
    "\n",
    "* La cantidad máxima de productos movidos es 50 millones por transacción\n",
    "* Existen 236.668 movimientos de producto realizados desde 2013\n",
    "* Los movimientos están relacionados con 228.265 clientes\n",
    "* El formato de fechas manejado es YYYY-MM-DD HH:MM:SS\n",
    "* Actualmente tenemos 13 proveedores\n",
    "\n",
    "Recuerde:\n",
    "* Revisar la infografía de entendimiento de datos y de calidad de datos.\n",
    "* Ser ordenado en la entrega\n",
    "* Evitar tener imágenes o tablas sin análisis\n",
    "* Incluir el significado de una fila (no es copia del diccionario de datos)\n",
    "* Terminar la actividad con una conclusión orientada a las personas de negocio\n",
    "* Incluir la lista de preguntas o aclaraciones para la organización, problemas de calidad y alternativas para la limpieza.\n",
    "* La entrega corresponde a la URL de tu Wiki, asociada al notebook donde incluyes únicamente los elementos solicitados en esta tarea."
   ]
  },
  {
   "cell_type": "markdown",
   "metadata": {},
   "source": [
    "## Desarrollo\n",
    "\n",
    "### 1. Conexión a la base de datos\n",
    "En esta parte, se crea la conexión a la base de datos y se guarda la tabla `movimientosCopia` en un dataframe de Spark."
   ]
  },
  {
   "cell_type": "code",
   "execution_count": 1,
   "metadata": {},
   "outputs": [],
   "source": [
    "# warnings\n",
    "import warnings\n",
    "warnings.filterwarnings(\"ignore\")"
   ]
  },
  {
   "cell_type": "code",
   "execution_count": 2,
   "metadata": {},
   "outputs": [],
   "source": [
    "# librerías\n",
    "from pyspark.sql import SparkSession\n",
    "from pyspark.sql import functions\n",
    "from pyspark.sql.types import StructType\n",
    "from pyspark import SparkContext, SparkConf, SQLContext\n",
    "from pyspark.sql.types import FloatType, StringType, IntegerType, DateType\n",
    "from pyspark.sql.functions import udf, col, length, isnan, when, count\n",
    "import pyspark.sql.functions as f\n",
    "import os \n",
    "from datetime import datetime\n",
    "from pyspark.sql import types as t\n",
    "from pandas_profiling import ProfileReport\n",
    "import matplotlib.pyplot as plt\n",
    "import numpy as np"
   ]
  },
  {
   "cell_type": "code",
   "execution_count": 3,
   "metadata": {
    "id": "0-m3Q2MtPn3O",
    "outputId": "459f0ec2-9a36-4a36-edac-427852524d95"
   },
   "outputs": [],
   "source": [
    "# configuración del controlador e inicio de sesión\n",
    "path_jar_driver = 'C:\\Program Files (x86)\\MySQL\\Connector J 8.0\\mysql-connector-java-8.0.28.jar'\n",
    "\n",
    "conf=SparkConf() \\\n",
    "    .set('spark.driver.extraClassPath', path_jar_driver)\n",
    "\n",
    "spark_context = SparkContext(conf=conf)\n",
    "sql_context = SQLContext(spark_context)\n",
    "spark = sql_context.sparkSession"
   ]
  },
  {
   "cell_type": "code",
   "execution_count": 4,
   "metadata": {
    "id": "0eQw66SIPn3P"
   },
   "outputs": [],
   "source": [
    "# credenciales bd\n",
    "db_connection_string = 'jdbc:mysql://157.253.236.116:8080/WWImportersTransactional'\n",
    "db_user = 'Estudiante_9_202413'\n",
    "db_psswd = 'aabb1122'\n",
    "PATH='./'"
   ]
  },
  {
   "cell_type": "code",
   "execution_count": 5,
   "metadata": {},
   "outputs": [],
   "source": [
    "# función para conectarse a la fuente de datos (archivo csv o base de datos) y retornar un dataframe\n",
    "def obtener_dataframe_de_bd(db_connection_string, sql, db_user, db_psswd):\n",
    "    df_bd = spark.read.format('jdbc')\\\n",
    "        .option('url', db_connection_string) \\\n",
    "        .option('dbtable', sql) \\\n",
    "        .option('user', db_user) \\\n",
    "        .option('password', db_psswd) \\\n",
    "        .option('driver', 'com.mysql.cj.jdbc.Driver') \\\n",
    "        .load()\n",
    "    return df_bd"
   ]
  },
  {
   "cell_type": "code",
   "execution_count": 6,
   "metadata": {},
   "outputs": [],
   "source": [
    "# seleccionar la tabla, realizar conexión BD y guardar en un dataframe de pyspark\n",
    "tabla = 'WWImportersTransactional.movimientosCopia'\n",
    "df = obtener_dataframe_de_bd(db_connection_string, tabla, db_user, db_psswd)"
   ]
  },
  {
   "cell_type": "markdown",
   "metadata": {
    "tags": []
   },
   "source": [
    "### 2. Exploración preliminar de los datos\n",
    "En esta parte, se exploran las características generales del conjunto de datos."
   ]
  },
  {
   "cell_type": "code",
   "execution_count": 7,
   "metadata": {},
   "outputs": [
    {
     "name": "stdout",
     "output_type": "stream",
     "text": [
      "Número de filas:  204292\n",
      "Número de columnas:  9\n"
     ]
    }
   ],
   "source": [
    "print(\"Número de filas: \", df.count())\n",
    "print(\"Número de columnas: \",len(df.columns))"
   ]
  },
  {
   "cell_type": "code",
   "execution_count": 13,
   "metadata": {},
   "outputs": [
    {
     "data": {
      "text/plain": [
       "[('TransaccionProductoID', 'int'),\n",
       " ('ProductoID', 'int'),\n",
       " ('TipoTransaccionID', 'int'),\n",
       " ('ClienteID', 'double'),\n",
       " ('InvoiceID', 'double'),\n",
       " ('ProveedorID', 'string'),\n",
       " ('OrdenDeCompraID', 'string'),\n",
       " ('FechaTransaccion', 'string'),\n",
       " ('Cantidad', 'double')]"
      ]
     },
     "execution_count": 13,
     "metadata": {},
     "output_type": "execute_result"
    }
   ],
   "source": [
    "df.dtypes"
   ]
  },
  {
   "cell_type": "markdown",
   "metadata": {},
   "source": [
    "El conjunto de datos tiene 204292 observaciones de 9 atributos. 7 de los atributos son identificadores, y las otras dos columnas corresponden a la fecha de la transacción y la cantidad de dicha transacción. Consultando el diccionario de la base de datos, se tiene la siguiente información adicional sobre las columnas:"
   ]
  },
  {
   "cell_type": "markdown",
   "metadata": {},
   "source": [
    "* `TransaccionProductoID`:\tLlave primaria que identifica cada transacción.\n",
    "* `ProductoID`:\tLlave foránea que hace la relación con la tabla **producto**, identifica el producto que fue extraido o agregado en el inventario.\n",
    "* `TipoTransaccionID`:\tLlave foránea que hace la relación con la tabla **TipoTransaccion**, identifica el tipo de transaccion del movimiento.\n",
    "* `ClienteID`:\tLlave foránea que hace la relación con la tabla **Cliente**, identifica el cliente que hace la compra.\n",
    "* `InvoiceID`:\tIdentificador de la factura.\n",
    "* `ProveedorID`:\tLlave foránea que hace la relación con la tabla **Proveedor**, identifica el proveedor del producto en movimiento.\n",
    "* `OrdenDeCompraID`:\tLlave foránea que hace la relación con la tabla de **Ordenes**, identifica el id de la orden de este movimiento.\n",
    "* `FechaTransaccion`:\tFecha del movimiento en inventario.\n",
    "* `Cantidad`:\tCantidad de productos que se retiraron o ingresaron a inventario."
   ]
  },
  {
   "cell_type": "markdown",
   "metadata": {},
   "source": [
    "De esta forma, se observa que cada observación corresponde a un movimiento de inventario (también llamado Transacción), y sus atributos corresponden al tipo de movimiento, su fecha de realización, e información relacionada como el producto, cliente, factura, proveedor, y cantidad de productos movidos."
   ]
  },
  {
   "cell_type": "code",
   "execution_count": 18,
   "metadata": {},
   "outputs": [
    {
     "data": {
      "text/html": [
       "<div>\n",
       "<style scoped>\n",
       "    .dataframe tbody tr th:only-of-type {\n",
       "        vertical-align: middle;\n",
       "    }\n",
       "\n",
       "    .dataframe tbody tr th {\n",
       "        vertical-align: top;\n",
       "    }\n",
       "\n",
       "    .dataframe thead th {\n",
       "        text-align: right;\n",
       "    }\n",
       "</style>\n",
       "<table border=\"1\" class=\"dataframe\">\n",
       "  <thead>\n",
       "    <tr style=\"text-align: right;\">\n",
       "      <th></th>\n",
       "      <th>TransaccionProductoID</th>\n",
       "      <th>ProductoID</th>\n",
       "      <th>TipoTransaccionID</th>\n",
       "      <th>ClienteID</th>\n",
       "      <th>InvoiceID</th>\n",
       "      <th>ProveedorID</th>\n",
       "      <th>OrdenDeCompraID</th>\n",
       "      <th>FechaTransaccion</th>\n",
       "      <th>Cantidad</th>\n",
       "    </tr>\n",
       "  </thead>\n",
       "  <tbody>\n",
       "    <tr>\n",
       "      <th>0</th>\n",
       "      <td>118903</td>\n",
       "      <td>217</td>\n",
       "      <td>10</td>\n",
       "      <td>476.0</td>\n",
       "      <td>24904.0</td>\n",
       "      <td></td>\n",
       "      <td></td>\n",
       "      <td>Apr 25,2014</td>\n",
       "      <td>-40.0</td>\n",
       "    </tr>\n",
       "    <tr>\n",
       "      <th>1</th>\n",
       "      <td>286890</td>\n",
       "      <td>135</td>\n",
       "      <td>10</td>\n",
       "      <td>33.0</td>\n",
       "      <td>60117.0</td>\n",
       "      <td></td>\n",
       "      <td></td>\n",
       "      <td>Dec 10,2015</td>\n",
       "      <td>-7.0</td>\n",
       "    </tr>\n",
       "    <tr>\n",
       "      <th>2</th>\n",
       "      <td>285233</td>\n",
       "      <td>111</td>\n",
       "      <td>10</td>\n",
       "      <td>180.0</td>\n",
       "      <td>59768.0</td>\n",
       "      <td></td>\n",
       "      <td></td>\n",
       "      <td>Dec 04,2015</td>\n",
       "      <td>-2.0</td>\n",
       "    </tr>\n",
       "    <tr>\n",
       "      <th>3</th>\n",
       "      <td>290145</td>\n",
       "      <td>213</td>\n",
       "      <td>10</td>\n",
       "      <td>33.0</td>\n",
       "      <td>60795.0</td>\n",
       "      <td></td>\n",
       "      <td></td>\n",
       "      <td>Dec 23,2015</td>\n",
       "      <td>-3.0</td>\n",
       "    </tr>\n",
       "    <tr>\n",
       "      <th>4</th>\n",
       "      <td>247492</td>\n",
       "      <td>90</td>\n",
       "      <td>10</td>\n",
       "      <td>55.0</td>\n",
       "      <td>51851.0</td>\n",
       "      <td></td>\n",
       "      <td></td>\n",
       "      <td>Jul 27,2015</td>\n",
       "      <td>-24.0</td>\n",
       "    </tr>\n",
       "    <tr>\n",
       "      <th>5</th>\n",
       "      <td>157714</td>\n",
       "      <td>212</td>\n",
       "      <td>10</td>\n",
       "      <td>146.0</td>\n",
       "      <td>33043.0</td>\n",
       "      <td></td>\n",
       "      <td></td>\n",
       "      <td>Sep 15,2014</td>\n",
       "      <td>-20.0</td>\n",
       "    </tr>\n",
       "    <tr>\n",
       "      <th>6</th>\n",
       "      <td>250024</td>\n",
       "      <td>218</td>\n",
       "      <td>10</td>\n",
       "      <td>585.0</td>\n",
       "      <td>52377.0</td>\n",
       "      <td></td>\n",
       "      <td></td>\n",
       "      <td>Aug 04,2015</td>\n",
       "      <td>-60.0</td>\n",
       "    </tr>\n",
       "    <tr>\n",
       "      <th>7</th>\n",
       "      <td>200801</td>\n",
       "      <td>120</td>\n",
       "      <td>10</td>\n",
       "      <td>30.0</td>\n",
       "      <td>42049.0</td>\n",
       "      <td></td>\n",
       "      <td></td>\n",
       "      <td>Feb 23,2015</td>\n",
       "      <td>-3.0</td>\n",
       "    </tr>\n",
       "    <tr>\n",
       "      <th>8</th>\n",
       "      <td>221525</td>\n",
       "      <td>129</td>\n",
       "      <td>10</td>\n",
       "      <td>596.0</td>\n",
       "      <td>46388.0</td>\n",
       "      <td></td>\n",
       "      <td></td>\n",
       "      <td>May 01,2015</td>\n",
       "      <td>-7.0</td>\n",
       "    </tr>\n",
       "    <tr>\n",
       "      <th>9</th>\n",
       "      <td>295331</td>\n",
       "      <td>197</td>\n",
       "      <td>10</td>\n",
       "      <td>1037.0</td>\n",
       "      <td>61886.0</td>\n",
       "      <td></td>\n",
       "      <td></td>\n",
       "      <td>Jan 08,2016</td>\n",
       "      <td>-216.0</td>\n",
       "    </tr>\n",
       "  </tbody>\n",
       "</table>\n",
       "</div>"
      ],
      "text/plain": [
       "   TransaccionProductoID  ProductoID  TipoTransaccionID  ClienteID  InvoiceID  \\\n",
       "0                 118903         217                 10      476.0    24904.0   \n",
       "1                 286890         135                 10       33.0    60117.0   \n",
       "2                 285233         111                 10      180.0    59768.0   \n",
       "3                 290145         213                 10       33.0    60795.0   \n",
       "4                 247492          90                 10       55.0    51851.0   \n",
       "5                 157714         212                 10      146.0    33043.0   \n",
       "6                 250024         218                 10      585.0    52377.0   \n",
       "7                 200801         120                 10       30.0    42049.0   \n",
       "8                 221525         129                 10      596.0    46388.0   \n",
       "9                 295331         197                 10     1037.0    61886.0   \n",
       "\n",
       "  ProveedorID OrdenDeCompraID FechaTransaccion  Cantidad  \n",
       "0                                  Apr 25,2014     -40.0  \n",
       "1                                  Dec 10,2015      -7.0  \n",
       "2                                  Dec 04,2015      -2.0  \n",
       "3                                  Dec 23,2015      -3.0  \n",
       "4                                  Jul 27,2015     -24.0  \n",
       "5                                  Sep 15,2014     -20.0  \n",
       "6                                  Aug 04,2015     -60.0  \n",
       "7                                  Feb 23,2015      -3.0  \n",
       "8                                  May 01,2015      -7.0  \n",
       "9                                  Jan 08,2016    -216.0  "
      ]
     },
     "execution_count": 18,
     "metadata": {},
     "output_type": "execute_result"
    }
   ],
   "source": [
    "# crear una visualización de los datos más ordenada que la de pyspark\n",
    "df.limit(10).toPandas()"
   ]
  },
  {
   "cell_type": "markdown",
   "metadata": {},
   "source": [
    "De visualizar las primeras 10 observaciones de los datos,se observa que para las primeras tres columnas, los registros son de tipo entero, y para `ClienteID` y `InvoiceID` son decimales, a pesar de todos terminar en 0 (quizá sería más fácil convertir estas columnas a enteros, si todos los datos siguen el mismo patrón).Todas las observaciones tienen valores nulos para `ProveedorID` y para `OrdenDeCompraID`. También, el formato de la fecha de transacción son las primeras tres letras del mes seguido por los dígitos del día, seguido por una coma y el año. Por último, todas las transacciones hasta el momento son negativas, lo cual puede ser la convención para productos retirados (-). Estas intuiciones se verificarán con más rigor más adelante."
   ]
  },
  {
   "cell_type": "markdown",
   "metadata": {},
   "source": [
    "### 3. Revisión de reglas de negocio\n",
    "En esta sección, abordaré en orden el estudio de las reglas de negocio mencionadas en el enunciado por parte de WWI. Para esta sección, encontré que lo más fácil es apoyarse en sentencias de SQL, por lo cual creo una vista temporal de los datos, llamada `movimientos`.\n",
    " \n"
   ]
  },
  {
   "cell_type": "code",
   "execution_count": 7,
   "metadata": {},
   "outputs": [],
   "source": [
    " # crear una vista temporal de los datos, llamada movimientos\n",
    "df.createOrReplaceTempView(\"movimientos\")"
   ]
  },
  {
   "cell_type": "markdown",
   "metadata": {},
   "source": [
    "* **La cantidad máxima de productos movidos es 50 millones por transacción**\n",
    "\n",
    "Esta regla refiere a la columna `Cantidad`."
   ]
  },
  {
   "cell_type": "code",
   "execution_count": 20,
   "metadata": {},
   "outputs": [
    {
     "name": "stdout",
     "output_type": "stream",
     "text": [
      "+-------------+\n",
      "|max(Cantidad)|\n",
      "+-------------+\n",
      "|      67368.0|\n",
      "+-------------+\n",
      "\n"
     ]
    }
   ],
   "source": [
    "# usar sentencia de sql para consultar los datos\n",
    "spark.sql(\"SELECT MAX(Cantidad)FROM movimientos \").show()"
   ]
  },
  {
   "cell_type": "markdown",
   "metadata": {},
   "source": [
    "El valor máximo de cantidad movida registrado en la base de datos es de 67,368, lo cual técnicamente no incumple la regla de negocio, pero está muy por debajo del valor sugerido. En este sentido, es posible ya sea que la regla sea incorrecta, o que las transacciones registradas sean muy pequeñas en comparación con los límites permitidos."
   ]
  },
  {
   "cell_type": "markdown",
   "metadata": {},
   "source": [
    "* **Existen 236.668 movimientos de producto realizados desde 2013**\n",
    "\n",
    "Para verificar este requerimiento, es importante recordar que, según la visualización de datos, el formato de fecha es (por ejemplo) \"Apr 25,2015\". En este caso, el año son los últimos 4 dígitos del texto. Podemos usar la función `SUBSTRING` en SQL para aislar el año y poder crear comparaciones. "
   ]
  },
  {
   "cell_type": "code",
   "execution_count": 15,
   "metadata": {},
   "outputs": [
    {
     "name": "stdout",
     "output_type": "stream",
     "text": [
      "+----+\n",
      "|year|\n",
      "+----+\n",
      "|2014|\n",
      "|2015|\n",
      "|2015|\n",
      "|2015|\n",
      "|2015|\n",
      "+----+\n",
      "\n"
     ]
    }
   ],
   "source": [
    "# verificar que la función es correcta\n",
    "spark.sql(\"\"\"\n",
    "    SELECT SUBSTRING (FechaTransaccion, -4) AS year \n",
    "    FROM movimientos\n",
    "    LIMIT 5\n",
    "\"\"\").show()"
   ]
  },
  {
   "cell_type": "code",
   "execution_count": 17,
   "metadata": {},
   "outputs": [
    {
     "name": "stdout",
     "output_type": "stream",
     "text": [
      "+---------------+\n",
      "|total_productos|\n",
      "+---------------+\n",
      "|    4.6551015E7|\n",
      "+---------------+\n",
      "\n"
     ]
    }
   ],
   "source": [
    "# realizar la verdadera sentencia\n",
    "spark.sql(\"\"\"\n",
    "    SELECT SUM(Cantidad) AS total_productos\n",
    "    FROM movimientos\n",
    "    WHERE SUBSTRING (FechaTransaccion, -4)>=2013\n",
    "\"\"\").show()"
   ]
  },
  {
   "cell_type": "markdown",
   "metadata": {},
   "source": [
    "Como puede verse, el total de productos movidos desde el 2013 es superior a la cifra mencionada en las reglas de negocio. Específicamente, es de 46,551,015, contando los retiros como negativos, por lo cual en realidad es aún mayor. En todo caso, el valor obtenido muestra que la regla es incorrecta."
   ]
  },
  {
   "cell_type": "markdown",
   "metadata": {},
   "source": [
    "* **Los movimientos están relacionados con 228.265 clientes**\n",
    "\n",
    "Cada cliente está identificado por su llave foránea, `ClienteID`."
   ]
  },
  {
   "cell_type": "code",
   "execution_count": 19,
   "metadata": {},
   "outputs": [
    {
     "name": "stdout",
     "output_type": "stream",
     "text": [
      "+--------------+\n",
      "|total_clientes|\n",
      "+--------------+\n",
      "|           664|\n",
      "+--------------+\n",
      "\n"
     ]
    }
   ],
   "source": [
    "spark.sql(\"\"\"\n",
    "    SELECT COUNT(DISTINCT(ClienteID)) AS total_clientes\n",
    "    FROM movimientos\n",
    "\"\"\").show()"
   ]
  },
  {
   "cell_type": "markdown",
   "metadata": {},
   "source": [
    "De nuevo, se obtiene que la regla es incorrecta. En la base de datos presentada, solo se identifican 664 clientes diferentes para el total de movimientos."
   ]
  },
  {
   "cell_type": "markdown",
   "metadata": {},
   "source": [
    "* **El formato de fechas manejado es YYYY-MM-DD HH:MM:SS**\n",
    "\n",
    "De la exploración preliminar de los datos, se sabe que esta regla es incorrecta, al menos para un subconjunto de datos. Sin embargo, se va a explorar a mayor detalle. Una opción sencilla de verificar esto es contar las diferentes instancias de registros en donde el año está al final del formato (como en \"Apr 25,2015\").\n"
   ]
  },
  {
   "cell_type": "code",
   "execution_count": 24,
   "metadata": {},
   "outputs": [
    {
     "name": "stdout",
     "output_type": "stream",
     "text": [
      "+----+--------+\n",
      "|year|count(1)|\n",
      "+----+--------+\n",
      "|2016|   11380|\n",
      "|2014|   25222|\n",
      "|2013|     111|\n",
      "|2015|   27541|\n",
      "|0000|  140038|\n",
      "+----+--------+\n",
      "\n"
     ]
    }
   ],
   "source": [
    "spark.sql(\"\"\"\n",
    "    SELECT DISTINCT(SUBSTRING (FechaTransaccion, -4)) AS year, COUNT(*)\n",
    "    FROM movimientos\n",
    "    GROUP BY year\n",
    "\"\"\").show()"
   ]
  },
  {
   "cell_type": "markdown",
   "metadata": {},
   "source": [
    "Se observa que 64254 de los registros siguen el formato mencionado previamente, esto significa que por lo menos el 31.4% de los datos tienen un formato diferente al planteado en la regla de negocios. "
   ]
  },
  {
   "cell_type": "code",
   "execution_count": 26,
   "metadata": {},
   "outputs": [
    {
     "name": "stdout",
     "output_type": "stream",
     "text": [
      "+--------------------+\n",
      "|    FechaTransaccion|\n",
      "+--------------------+\n",
      "|2014-01-20 12:00:...|\n",
      "|2014-01-20 12:00:...|\n",
      "|2014-01-20 12:00:...|\n",
      "|2014-01-20 12:00:...|\n",
      "|2014-01-20 12:00:...|\n",
      "|2014-01-28 12:00:...|\n",
      "|2014-01-28 12:00:...|\n",
      "|2014-01-28 12:00:...|\n",
      "|2014-01-28 12:00:...|\n",
      "|2014-01-28 12:00:...|\n",
      "+--------------------+\n",
      "\n"
     ]
    }
   ],
   "source": [
    "spark.sql(\"\"\"\n",
    "    SELECT FechaTransaccion\n",
    "    FROM movimientos\n",
    "    WHERE FechaTransaccion LIKE '201%'\n",
    "    LIMIT 10\n",
    "\"\"\").show()"
   ]
  },
  {
   "cell_type": "markdown",
   "metadata": {},
   "source": [
    "También, se observa que ciertas observaciones sí cumplen el formato presentado por WWI, por lo cual la regla no es totalmente incorrecta."
   ]
  },
  {
   "cell_type": "markdown",
   "metadata": {},
   "source": [
    "* **Actualmente tenemos 13 proveedores**\n",
    "\n",
    "En este caso, se usa la columna `ProveedorID`, que identifica de forma única a cada proveedor. "
   ]
  },
  {
   "cell_type": "code",
   "execution_count": 27,
   "metadata": {},
   "outputs": [
    {
     "name": "stdout",
     "output_type": "stream",
     "text": [
      "+---------------------------+\n",
      "|count(DISTINCT ProveedorID)|\n",
      "+---------------------------+\n",
      "|                          4|\n",
      "+---------------------------+\n",
      "\n"
     ]
    }
   ],
   "source": [
    "spark.sql(\"\"\"\n",
    "    SELECT COUNT(DISTINCT(ProveedorID))\n",
    "    FROM movimientos\n",
    "\"\"\").show()"
   ]
  },
  {
   "cell_type": "markdown",
   "metadata": {},
   "source": [
    "Solamente se identifican 4 proveedores distintos en la base de datos, por lo cual está regla es también incorrecta."
   ]
  },
  {
   "cell_type": "markdown",
   "metadata": {},
   "source": [
    "### 4. Análisis Descriptivo de las variables\n",
    "\n",
    "En este caso, ya que la mayoría de campos son identificadores, el análisis descriptivo para dichos campos está limitado, en cuanto variables como media, mediana y varianza no son de utilidad. "
   ]
  },
  {
   "cell_type": "code",
   "execution_count": 30,
   "metadata": {},
   "outputs": [
    {
     "data": {
      "text/plain": [
       "['TransaccionProductoID',\n",
       " 'ProductoID',\n",
       " 'TipoTransaccionID',\n",
       " 'ClienteID',\n",
       " 'InvoiceID',\n",
       " 'ProveedorID',\n",
       " 'OrdenDeCompraID',\n",
       " 'FechaTransaccion',\n",
       " 'Cantidad']"
      ]
     },
     "execution_count": 30,
     "metadata": {},
     "output_type": "execute_result"
    }
   ],
   "source": [
    "df.columns"
   ]
  },
  {
   "cell_type": "code",
   "execution_count": 34,
   "metadata": {},
   "outputs": [],
   "source": [
    "# separar variables\n",
    "ids=['TransaccionProductoID',\n",
    " 'ProductoID',\n",
    " 'TipoTransaccionID',\n",
    " 'ClienteID',\n",
    " 'InvoiceID',\n",
    " 'ProveedorID',\n",
    " 'OrdenDeCompraID']\n",
    "vars=['FechaTransaccion',\n",
    " 'Cantidad']"
   ]
  },
  {
   "cell_type": "markdown",
   "metadata": {},
   "source": [
    "Para las variables de ID, se busca obtener la moda."
   ]
  },
  {
   "cell_type": "code",
   "execution_count": 36,
   "metadata": {},
   "outputs": [
    {
     "name": "stdout",
     "output_type": "stream",
     "text": [
      "+---------------------+-----+\n",
      "|TransaccionProductoID|count|\n",
      "+---------------------+-----+\n",
      "|               197953|    2|\n",
      "|               262183|    2|\n",
      "|               101055|    2|\n",
      "|               309597|    2|\n",
      "|               209326|    2|\n",
      "+---------------------+-----+\n",
      "only showing top 5 rows\n",
      "\n",
      "+----------+-----+\n",
      "|ProductoID|count|\n",
      "+----------+-----+\n",
      "|        80| 1488|\n",
      "|        95| 1477|\n",
      "|       184| 1339|\n",
      "|        86| 1318|\n",
      "|       193| 1312|\n",
      "+----------+-----+\n",
      "only showing top 5 rows\n",
      "\n",
      "+-----------------+------+\n",
      "|TipoTransaccionID| count|\n",
      "+-----------------+------+\n",
      "|               10|197136|\n",
      "|               11|  7110|\n",
      "|               12|    46|\n",
      "+-----------------+------+\n",
      "\n",
      "+---------+-----+\n",
      "|ClienteID|count|\n",
      "+---------+-----+\n",
      "|      0.0| 7156|\n",
      "|    980.0|  409|\n",
      "|    810.0|  401|\n",
      "|    804.0|  395|\n",
      "|    149.0|  395|\n",
      "+---------+-----+\n",
      "only showing top 5 rows\n",
      "\n",
      "+---------+-----+\n",
      "|InvoiceID|count|\n",
      "+---------+-----+\n",
      "|      0.0| 7156|\n",
      "|  20518.0|    9|\n",
      "|  23606.0|    9|\n",
      "|  51395.0|    9|\n",
      "|  37097.0|    9|\n",
      "+---------+-----+\n",
      "only showing top 5 rows\n",
      "\n",
      "+-----------+------+\n",
      "|ProveedorID| count|\n",
      "+-----------+------+\n",
      "|           |197182|\n",
      "|        4.0|  4832|\n",
      "|        7.0|  2267|\n",
      "|        1.0|    11|\n",
      "+-----------+------+\n",
      "\n",
      "+---------------+------+\n",
      "|OrdenDeCompraID| count|\n",
      "+---------------+------+\n",
      "|               |197182|\n",
      "|          829.0|    11|\n",
      "|         1579.0|    10|\n",
      "|         1186.0|    10|\n",
      "|         1498.0|    10|\n",
      "+---------------+------+\n",
      "only showing top 5 rows\n",
      "\n"
     ]
    }
   ],
   "source": [
    "for i in ids:\n",
    "    df.groupby(i).count().orderBy(\"count\", ascending=False).show(5)"
   ]
  },
  {
   "cell_type": "markdown",
   "metadata": {},
   "source": [
    "Se observa lo siguiente del análisis anterior:\n",
    "* En el campo `TransaccionProductoID`, hay valores repetidos, lo cual esto es posiblemente un error en la base de datos. Cada transacción debería tener su identificador único, y no es el caso.\n",
    "* Para `ProductoID` y `TipoTransaccionID`, se obtiene claramente el identificador más frecuente en las transacciones. Esto es de utilidad para la compañía, pues así logran identificar sus productos y tipos de transacción de mayor ocurrencia. Ya que no se tiene acceso a las tablas de Productos y Tipos de Transacción, no puede saberse cuáles son dichos productos.\n",
    "* Para `ClienteID` e `InvoiceID`, la moda es de 0.0, lo cual puede significar valores nulos para el identificador. Es reccomendable que para las columnas de identificador haya un formato común (como el de número entero diferente a 0), para poder identificar claramente los nulos de los IDs.\n",
    "* Los campos `ProveedorID` y `OrdenDeCompraID` tienen el mismo número de valores vacíos, que corresponde al 96.5% de los datos totales. Puede afirmarse que estas columnas no aportan ninguna información adicional a la tabla, por estar en su mayoría vacías.\n"
   ]
  },
  {
   "cell_type": "markdown",
   "metadata": {},
   "source": [
    "Se pasa a analizar la variable `FechaTransaccion`. Como los datos tienen diferentes formatos, para simplificar el análisis se usa solamente el formato mayoritario empleado, que es de YYYY-MM-DD HH:MM:SS."
   ]
  },
  {
   "cell_type": "code",
   "execution_count": 40,
   "metadata": {},
   "outputs": [
    {
     "name": "stdout",
     "output_type": "stream",
     "text": [
      "+----+-----+\n",
      "|year|total|\n",
      "+----+-----+\n",
      "|2016|24448|\n",
      "|2014|55311|\n",
      "|2013|  230|\n",
      "|2015|60049|\n",
      "+----+-----+\n",
      "\n"
     ]
    }
   ],
   "source": [
    "spark.sql(\"\"\"\n",
    "    SELECT SUBSTRING(FechaTransaccion, 1,4) AS year, COUNT(*) AS total\n",
    "    FROM movimientos\n",
    "    WHERE FechaTransaccion LIKE '201%'\n",
    "    GROUP BY year\n",
    "\"\"\").show()"
   ]
  },
  {
   "cell_type": "markdown",
   "metadata": {},
   "source": [
    "Se observa que el año con más registros es el 2015, seguido por el 2014. El 2016 muestra una caída en transacciones, por lo que tal vez bajaron la cantidad de negocios de WWI. Examinemos el mes a mayor detalle:"
   ]
  },
  {
   "cell_type": "code",
   "execution_count": 43,
   "metadata": {},
   "outputs": [
    {
     "name": "stdout",
     "output_type": "stream",
     "text": [
      "+-----+-----+\n",
      "|month|total|\n",
      "+-----+-----+\n",
      "|   05|15286|\n",
      "|   04|14875|\n",
      "|   03|14359|\n",
      "|   01|14118|\n",
      "|   02|13048|\n",
      "|   07|10950|\n",
      "|   12|10317|\n",
      "|   10|10080|\n",
      "|   06| 9813|\n",
      "|   09| 9464|\n",
      "|   11| 9032|\n",
      "|   08| 8696|\n",
      "+-----+-----+\n",
      "\n"
     ]
    }
   ],
   "source": [
    "spark.sql(\"\"\"\n",
    "    SELECT SUBSTRING(FechaTransaccion, 6,2) AS month, COUNT(*) AS total\n",
    "    FROM movimientos\n",
    "    WHERE FechaTransaccion LIKE '201%'\n",
    "    GROUP BY month\n",
    "    ORDER BY total DESC\n",
    "\"\"\").show()"
   ]
  },
  {
   "cell_type": "markdown",
   "metadata": {},
   "source": [
    "Según el mes, se observa que la mayor cantidad de transacciones se dan en mayo, seguido de abril y de marzo, que corresponden a la primera mitad del año. Por su parte, los meses de agosto, noviembre y septiembre, en la segunda mitad del año, tienen la menor actividad.\n",
    "Por último, se procede a analizar la variable `Cantidad`."
   ]
  },
  {
   "cell_type": "code",
   "execution_count": 9,
   "metadata": {},
   "outputs": [
    {
     "data": {
      "text/plain": [
       "count    204292.000000\n",
       "mean        719.499765\n",
       "std        4729.366597\n",
       "min        -360.000000\n",
       "25%         -60.000000\n",
       "50%          -9.000000\n",
       "75%          -5.000000\n",
       "max       67368.000000\n",
       "Name: Cantidad, dtype: float64"
      ]
     },
     "execution_count": 9,
     "metadata": {},
     "output_type": "execute_result"
    }
   ],
   "source": [
    "# convertir a una serie de pandas, para facilitar el manejo de los datos\n",
    "cantidad = df.select('Cantidad').toPandas()['Cantidad']\n",
    "cantidad.describe()"
   ]
  },
  {
   "cell_type": "code",
   "execution_count": 10,
   "metadata": {},
   "outputs": [
    {
     "data": {
      "image/png": "[encoded data removed]",
      "text/plain": [
       "<Figure size 360x360 with 1 Axes>"
      ]
     },
     "metadata": {
      "needs_background": "light"
     },
     "output_type": "display_data"
    }
   ],
   "source": [
    "# https://www.geeksforgeeks.org/box-plot-in-python-using-matplotlib/\n",
    "%matplotlib inline\n",
    "import matplotlib.pyplot as plt\n",
    "fig = plt.figure(figsize =(5, 5))\n",
    "plt.boxplot(cantidad)\n",
    "plt.title(\"Diagrama de cajas y bigotes Cantidad\")\n",
    "plt.ylabel(\"Valor\")\n",
    "plt.show()"
   ]
  },
  {
   "cell_type": "code",
   "execution_count": 22,
   "metadata": {},
   "outputs": [
    {
     "data": {
      "image/png": "[encoded data removed]",
      "text/plain": [
       "<Figure size 360x360 with 1 Axes>"
      ]
     },
     "metadata": {
      "needs_background": "light"
     },
     "output_type": "display_data"
    }
   ],
   "source": [
    "# versión reducida del boxplot\n",
    "fig = plt.figure(figsize =(5, 5))\n",
    "plt.boxplot(cantidad)\n",
    "plt.title(\"DCB Cantidad reducido\")\n",
    "plt.ylabel(\"Valor\")\n",
    "plt.ylim(-360, 100)\n",
    "plt.show()"
   ]
  },
  {
   "cell_type": "code",
   "execution_count": 20,
   "metadata": {},
   "outputs": [
    {
     "data": {
      "image/png": "[encoded data removed]",
      "text/plain": [
       "<Figure size 432x288 with 1 Axes>"
      ]
     },
     "metadata": {
      "needs_background": "light"
     },
     "output_type": "display_data"
    }
   ],
   "source": [
    "plt.hist(cantidad, bins = 1000)\n",
    "plt.title(\"Histograma cantidad de productos\")\n",
    "plt.xlabel(\"Cantidad de productos\")\n",
    "plt.ylabel(\"Frecuencia\")\n",
    "plt.xlim(-1000, 1000)\n",
    "plt.show()"
   ]
  },
  {
   "cell_type": "markdown",
   "metadata": {},
   "source": [
    "La información de las gráficas anteriores indica que la distribución de valores en `Cantidad` es altamente asimétrica. La media de productos movidos por transacción es de 719.5, que se asume se refiere a una adición de inventario. Esto significa que, en promedio, WWI tiene una ganancia neta de inventario, lo cual es algo que deben tener en consideración, a propósito de tener el suficiente espacio en sus bodegas.\n",
    "\n",
    "La mediana de los datos es de -9, lo cual es un alto contraste con la media, mostrando lo asimétrica que es la distribución. También, de observar el diagrama de cajas, se observa que hay un rango muy grande de valores atípicos, particularmente para valores positivos, que se supone corresponden a ingresos. \n",
    "\n",
    "En general, se observa que:\n",
    "* La gran mayoría de las transacciones registradas en la base de datos (más del 75%) corresponden a retiros de producto en cantidades pequeñas, no superando las 360 unidades.\n",
    "* Los ingresos de inventario corresponden a una minoría de observaciones, pero generalmente se realizan en grandes cantidades, cuyo valor máximo registrado es de 67368 unidades a la vez. \n",
    "\n",
    "Lo anterior tiene sentido en concordancia con el contexto de WWI, pues este compra su mercancía en grandes cantidades al por mayor y lo venden a pequeños clientes en cantidades más pequeñas."
   ]
  },
  {
   "cell_type": "markdown",
   "metadata": {},
   "source": [
    "### 5. Análisis de calidad de datos\n",
    "\n",
    "A lo largo del análisis de entendimiento que se ha realizado, se han identificado varios problemas de calidad de datos, que se profundizarán en esta sección en orden. Se introducen las funciones vistas en los tutoriales del curso, para facilitar el análisis.\n"
   ]
  },
  {
   "cell_type": "code",
   "execution_count": 43,
   "metadata": {},
   "outputs": [],
   "source": [
    "def contar_vacios(df):\n",
    "    for i in df.columns:\n",
    "        vacios = vacios = df.filter(df[c].isNull()).count()\n",
    "        print('Nulos para '+i+': '+str( vacios ))\n",
    "    return None\n",
    "\n",
    "def cardinalidad(df):\n",
    "    resultado = {}\n",
    "    for c in df.columns:\n",
    "        cardinalidad = df.select(col(c)).distinct().count()\n",
    "        if cardinalidad>=df.count()*0.5:\n",
    "            resultado[c] = cardinalidad\n",
    "    return resultado"
   ]
  },
  {
   "cell_type": "markdown",
   "metadata": {},
   "source": [
    "* **Completitud**\n",
    "\n",
    "Se observó que las columnas de `ProveedorID` y `OrdenDeCompraID` tienen el 96.5% de datos faltantes. Al ser un porcentaje tan elevado, estas columnas no son útiles para llevar registro de los proveedores y sus órdenes de compra, ni para análisis relacionados.\n",
    "\n",
    "Por su parte, las columnas de `ClienteID` e `InvoiceID` tienen 7156 valores para el ID de 0.0 (3.5% de los datos), lo cual probablemente corresponde a valores nulos a su vez. Es necesario incluir esta inconsistencia de formato en las preguntas al negocio."
   ]
  },
  {
   "cell_type": "code",
   "execution_count": 42,
   "metadata": {},
   "outputs": [
    {
     "name": "stdout",
     "output_type": "stream",
     "text": [
      "Nulos para TransaccionProductoID: 0\n",
      "Nulos para ProductoID: 0\n",
      "Nulos para TipoTransaccionID: 0\n",
      "Nulos para ClienteID: 0\n",
      "Nulos para InvoiceID: 0\n",
      "Nulos para ProveedorID: 0\n",
      "Nulos para OrdenDeCompraID: 0\n",
      "Nulos para FechaTransaccion: 0\n",
      "Nulos para Cantidad: 0\n"
     ]
    }
   ],
   "source": [
    "contar_vacios(df)"
   ]
  },
  {
   "cell_type": "markdown",
   "metadata": {},
   "source": [
    "La función definida durante los tutoriales, por razones desconocidas, no logra extraer correctamente el número de nulos de cada columna. Se intentaron múltiples iteraciones de este código sin éxito."
   ]
  },
  {
   "cell_type": "markdown",
   "metadata": {},
   "source": [
    "* **Unicidad**\n",
    "\n",
    "Previamente, se detectó un problema de unicidad, en cuanto existen valores repetidos de `ProductoTransaccionID`. Esta columna es el identificador único de cada transacción, y no debería presentar valores repetidos. Se procede a estudiar filas repetidas:"
   ]
  },
  {
   "cell_type": "code",
   "execution_count": 44,
   "metadata": {},
   "outputs": [
    {
     "data": {
      "text/plain": [
       "'Existen 30633 observaciones repetidas en el conjunto de datos.'"
      ]
     },
     "execution_count": 44,
     "metadata": {},
     "output_type": "execute_result"
    }
   ],
   "source": [
    "def filas_repetidas(df):\n",
    "    antes = df.count()\n",
    "    \n",
    "   # eliminar duplicados y volver a contar las filas\n",
    "    df_2 = df.dropDuplicates()\n",
    "    despues = df_2.count()\n",
    "    # Calculate number of repeated rows\n",
    "    repetidos=antes-despues\n",
    "    resp=\"Existen \"+str(repetidos)+ \" observaciones repetidas en el conjunto de datos.\"\n",
    "    return resp\n",
    "filas_repetidas(df)"
   ]
  },
  {
   "cell_type": "markdown",
   "metadata": {},
   "source": [
    "Se confirma que en la tabla existen registros repetidos de transacciones, lo cual corresponde al 15% de observaciones totales.\n",
    "\n",
    "* **Consistencia**\n",
    "\n",
    "En el análisis exploratorio, no se encontraron problemas de consistencia. Un posible problema podría ser valores de ProductoID, TipoTransaccionID, ClienteID o de InvoiceID que no tengan una referencia en sus respectivas tablas. Como no se tiene acceso a estas, sin embargo, no puede verificarse la existencia de inconsistencias.\n",
    "\n",
    "* **Validez**\n",
    "\n",
    "Se han detectado hasta el momento múltiples problemas de validez, entre los cuales se destacan:\n",
    "* En el campo `FechaTransaccion`, se emplean simultáneamente dos formatos para las fechas, lo cual es perjudicial para el análisis de datos posterior. Uno de los formatos es \"mmm dd,yyyy\", mientras que el otro es \"YYYY-MM-DD HH:MM:SS\".\n",
    "* Debería existir un formato común para todas las columnas de identificadores. Se observa que 2 de los 7 campos tienen formato \"double\", mientras que los 5 restantes tienen formato \"int\".\n",
    "\n",
    "Los valores atípicos de `Cantidad` no corresponden a problemas de validez, dado que es una consecuencia natural del tipo de negocio de WWI.\n",
    "\n"
   ]
  },
  {
   "cell_type": "markdown",
   "metadata": {
    "tags": []
   },
   "source": [
    "### 6. Preguntas al negocio\n",
    "\n",
    "* ¿ Los valores de 0.0 en `ClienteID` e `InvoiceID` corresponden a datos vacíos? Si no, ¿por qué usar el 0 como identificador?\n",
    "\n",
    "* ¿Los valores nulos en los campos de Proveedor y Orden de Compra obedecen a algún problema en la recolección de datos, o obedecen a transacciones de tipo venta, en las cuales el proveedor no está especificado? De ser el segundo caso, se recomienda llenar el campo con una relación cruzada de las tablas de producto y proveedor, donde se identifique el fabricante original del producto según su identificador.\n"
   ]
  },
  {
   "cell_type": "markdown",
   "metadata": {},
   "source": [
    "### 7. Conclusiones\n",
    "\n",
    "Recordando el enunciado inicial, el propósito principal del ejercicio de analítica es \"Visualizar la cantidad de productos vendidos y el valor total recaudado en un rango de fechas por cliente, vendedor, ciudad, producto\". En relación a este objetivo, se generan las siguientes conclusiones y recomendaciones sobre el conjunto de datos:\n",
    "\n",
    "* Es necesario tener acceso a las tablas de Clientes, Proveedores, Productos, Tipo de Transaccion, y tipo de Factura, para poder corroborar la ausencia de problemas de consistencia en los datos, así como para análisis posteriores sobre los clientes que más y menos compras generan, entre otros.\n",
    "\n",
    "* Para poder dar el mejor manejo y análisis a los datos, es necesario aclarar las dudas mencionadas en la sección previa de preguntas al negocio.\n",
    "\n",
    "* Se encontró que la tabla `movimientosCopia`, pendiente de la corrección de ciertos problemas de calidad de datos, notablemente de validez y unicidad, cumple con los requisitos de WWI para el análisis analítico relacionado con el seguimiento de productos vendidos según proveedor, cliente, etc."
   ]
  },
  {
   "attachments": {
    "923f8905-cff2-49a5-8590-420fd7a8a6d5.png": {
     "image/png": "[encoded data removed]"
    }
   },
   "cell_type": "markdown",
   "metadata": {},
   "source": [
    "### Nota:\n",
    "\n",
    "El documento no pudo convertirse a pdf, dado que no se cuenta con la librería `pandoc`, y el curso tampoco ofrece soporte sobre como realizar este proceso. Dado que se trabaja en una VM, tampoco es claro si descargar paquetes está permitido.\n",
    "![image.png](attachment:923f8905-cff2-49a5-8590-420fd7a8a6d5.png)"
   ]
  }
 ],
 "metadata": {
  "colab": {
   "collapsed_sections": [
    "qxN27II0Pn3T",
    "GnAScmClPn3W",
    "UuZspay3Pn3Z",
    "ZHLs1H0hPn3b",
    "QgkzeSm4Pn3b",
    "LZyQcqCvPn3c",
    "eDf54JyKPn3d",
    "ltTluhtIPn3e",
    "IPhtXcD1Pn3g",
    "-axExLnhPn3g",
    "YfSMeXZQPn3g"
   ],
   "name": "MISW-ETL-Entendimiento.ipynb",
   "provenance": []
  },
  "kernelspec": {
   "display_name": "Python 3 (ipykernel)",
   "language": "python",
   "name": "python3"
  },
  "language_info": {
   "codemirror_mode": {
    "name": "ipython",
    "version": 3
   },
   "file_extension": ".py",
   "mimetype": "text/x-python",
   "name": "python",
   "nbconvert_exporter": "python",
   "pygments_lexer": "ipython3",
   "version": "3.7.13"
  },
  "toc-autonumbering": true,
  "toc-showcode": true
 },
 "nbformat": 4,
 "nbformat_minor": 4
}
